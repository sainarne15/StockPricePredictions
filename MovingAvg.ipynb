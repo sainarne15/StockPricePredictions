{
 "cells": [
  {
   "cell_type": "code",
   "execution_count": 6,
   "metadata": {},
   "outputs": [
    {
     "name": "stdout",
     "output_type": "stream",
     "text": [
      "Enter the amount to invest-:10000\n",
      "For the given period of time, with our algo at the end we have\n",
      "Profit with an amount of 139.60095600000022\n"
     ]
    }
   ],
   "source": [
    "import numpy as np\n",
    "import pandas as pd\n",
    "import matplotlib.pyplot as plt\n",
    "init_amount=our_amount=int(input(\"Enter the amount to invest-:\")) #taking the initial investement dynamically\n",
    "net_worth=our_amount  #sum of the total amount we have and the price of the total stocks we have \n",
    "stocks=0 #the total no of stocks we own\n",
    "df=pd.read_csv('C:\\\\Users\\\\lock5\\\\Downloads\\\\Telegram Desktop\\\\TCS.NS1.csv')\n",
    "df.dropna(inplace=True) #deleting the null values\n",
    "df.isna().sum()\n",
    "df['avg_closing_price']=df.iloc[:,4].rolling(window=5).mean() #Taking Moving average for 5 days\n",
    "for i in range(1,df.shape[0]):\n",
    "    df.loc[df.index[i],'Price_increase\\Decrease']=(df.iloc[i,4]-df.iloc[i-1,4])\n",
    "for i in range(4,df.shape[0]):           #determing whether tomorrow is a buy period or sell period and storing it in previous day\n",
    "    if(df.iloc[i,4]<=df.iloc[i,7]):\n",
    "        k='Buy'\n",
    "    else:\n",
    "        k='Sell'\n",
    "    df.loc[df.index[i],'buy\\sell period']=k\n",
    "for i in range(0,df.shape[0]):      #finding index of the first buy period to buy the stocks\n",
    "    df.loc[df.index[i],'our_amount']=our_amount\n",
    "    df.loc[df.index[i],'Networth']=net_worth\n",
    "    df.loc[df.index[i],'stocks_owned']=stocks\n",
    "    if(df.iloc[i,9]=='Buy'):\n",
    "        break\n",
    "for j in range(i,df.shape[0]-1):   #calculating amount and stocks we have and also our networth which is sum of our amount and total price of the stocks that we own\n",
    "    price=df.iloc[j+1,4]\n",
    "    if(df.iloc[j,9]=='Buy'): #if it is a buy period\n",
    "        if(our_amount>=price):\n",
    "            stocks=our_amount//price\n",
    "            our_amount=our_amount-price*stocks\n",
    "    else:                    #if it is a sell period\n",
    "        if(stocks>0):\n",
    "            our_amount=our_amount+stocks*price\n",
    "            stocks=0\n",
    "            net_worth=our_amount\n",
    "    net_worth=our_amount+price*stocks\n",
    "    df.loc[df.index[j+1],'our_amount']=our_amount\n",
    "    df.loc[df.index[j+1],'Networth']=net_worth\n",
    "    df.loc[df.index[j+1],'stocks_owned']=stocks\n",
    "#df.to_excel from openpyxl\n",
    "df.to_excel (r'C:\\\\Users\\\\lock5\\\\Downloads\\\\Telegram Desktop\\\\export_dataframe.xlsx', index = False, header=True) #storing the output in a seperate xlsx file\n",
    "print(\"For the given period of time, with our algo at the end we have\")\n",
    "if(stocks==0):\n",
    "    at=our_amount-init_amount\n",
    "    if(at > 0):\n",
    "        print(\"Profit with an amount of\",at)\n",
    "    elif(at<0):\n",
    "        print(\"loss with an amount of\",abs(at))\n",
    "    else:\n",
    "        print(\"Neither profit nor loss\")\n",
    "else:\n",
    "    at=(net_worth+our_amount)-init_amount\n",
    "    if(at > 0):\n",
    "        print(\"Profit with an amount of\",at)\n",
    "    elif(at<0):\n",
    "        print(\"loss with an amount of\",abs(at))\n",
    "    else:\n",
    "        print(\"Neither profit nor loss\")"
   ]
  }
 ],
 "metadata": {
  "kernelspec": {
   "display_name": "Python 3",
   "language": "python",
   "name": "python3"
  },
  "language_info": {
   "codemirror_mode": {
    "name": "ipython",
    "version": 3
   },
   "file_extension": ".py",
   "mimetype": "text/x-python",
   "name": "python",
   "nbconvert_exporter": "python",
   "pygments_lexer": "ipython3",
   "version": "3.7.3"
  }
 },
 "nbformat": 4,
 "nbformat_minor": 2
}
